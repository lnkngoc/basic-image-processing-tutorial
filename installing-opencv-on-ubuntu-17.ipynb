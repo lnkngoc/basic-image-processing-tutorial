{
 "metadata": {
  "kernelspec": {
   "display_name": "Python 2",
   "language": "python",
   "name": "python2"
  },
  "language_info": {
   "codemirror_mode": {
    "name": "ipython",
    "version": 2
   },
   "file_extension": ".py",
   "mimetype": "text/x-python",
   "name": "python",
   "nbconvert_exporter": "python",
   "pygments_lexer": "ipython2",
   "version": "2.7.13"
  },
  "name": "",
  "signature": "sha256:e9b2e9f5fc4283beddd30ba9b30c0acd60e1caea737393bf701b4a7d2137e56c"
 },
 "nbformat": 3,
 "nbformat_minor": 0,
 "worksheets": [
  {
   "cells": [
    {
     "cell_type": "markdown",
     "metadata": {},
     "source": [
      "# Install OpenCV 2.4.13.5 on ubuntu 17.04"
     ]
    },
    {
     "cell_type": "code",
     "collapsed": false,
     "input": [
      "useful links: \n",
      "web: https://opencv.org/releases.html\n",
      "web: http://www.samontab.com/web/2014/06/installing-opencv-2-4-9-in-ubuntu-14-04-lts/\n",
      "\n",
      "download OpenCV:\n",
      "source: https://github.com/opencv/opencv/archive/2.4.13.5.zip"
     ],
     "language": "python",
     "metadata": {},
     "outputs": []
    },
    {
     "cell_type": "markdown",
     "metadata": {},
     "source": [
      "## Preparing the system "
     ]
    },
    {
     "cell_type": "code",
     "collapsed": false,
     "input": [
      "$ echo \"deb http://us.archive.ubuntu.com/ubuntu/ yakkety universe\" | sudo tee -a /etc/apt/sources.list\n",
      "$ sudo apt-get update\n",
      "\n",
      "$ sudo apt-get install build-essential\n",
      "$ sudo apt-get install cmake git libgtk2.0-dev pkg-config libavcodec-dev libavformat-dev libswscale-dev libopencv-dev\n",
      "$ sudo apt-get install python-dev python-numpy libtbb2 libtbb-dev libjpeg-dev libpng-dev libtiff5-dev libjasper-dev libdc1394-22-dev"
     ],
     "language": "python",
     "metadata": {},
     "outputs": []
    },
    {
     "cell_type": "markdown",
     "metadata": {},
     "source": [
      "## Download OpenCV-2.4.13.5 from archive"
     ]
    },
    {
     "cell_type": "code",
     "collapsed": false,
     "input": [
      "$ cd ~\n",
      "$ wget https://github.com/opencv/opencv/archive/2.4.13.5.zip\n",
      "$ unzip 2.4.13.5.zip\n",
      "$ cd opencv-2.4.13.5"
     ],
     "language": "python",
     "metadata": {},
     "outputs": []
    },
    {
     "cell_type": "markdown",
     "metadata": {},
     "source": [
      "## Building OpenCV from source using cmake"
     ]
    },
    {
     "cell_type": "code",
     "collapsed": false,
     "input": [
      "$ mkdir release\n",
      "$ cd release\n",
      "$ cmake -D CMAKE_BUILD_TYPE=RELEASE -D CMAKE_INSTALL_PREFIX=/usr/local ..\n",
      "$ make -j4\n",
      "$ sudo make install"
     ],
     "language": "python",
     "metadata": {},
     "outputs": []
    },
    {
     "cell_type": "heading",
     "level": 2,
     "metadata": {},
     "source": [
      "Configure OpenCV"
     ]
    },
    {
     "cell_type": "code",
     "collapsed": false,
     "input": [
      "$ sudo nano /etc/ld.so.conf.d/opencv.conf\n",
      "\n",
      "# add the following line at the end of the file\n",
      "\n",
      "/user/local/lib"
     ],
     "language": "python",
     "metadata": {},
     "outputs": []
    },
    {
     "cell_type": "code",
     "collapsed": false,
     "input": [
      "# run the followin code to configure the file\n",
      "$ sudo ldconfig\n",
      "\n",
      "# edit another file\n",
      "$ sudo nano /etc/bash.bashrc\n",
      "\n",
      "# add these two lines at the end of the file and save it\n",
      "PKG_CONFIG_PATH=$PKG_CONFIG_PATH:/usr/local/lib/pkgconfig\n",
      "export PKG_CONFIG_PATH"
     ],
     "language": "python",
     "metadata": {},
     "outputs": []
    },
    {
     "cell_type": "code",
     "collapsed": false,
     "input": [
      "$ sudo apt-get install python-opencv"
     ],
     "language": "python",
     "metadata": {},
     "outputs": []
    },
    {
     "cell_type": "heading",
     "level": 2,
     "metadata": {},
     "source": [
      "Getting started with OpenCV "
     ]
    },
    {
     "cell_type": "code",
     "collapsed": false,
     "input": [
      "$ python\n",
      "\n",
      ">>> import numpy as np\n",
      ">>> import cv2\n",
      "\n",
      "# Load an color image in grayscale\n",
      "img = cv2.imread('image.jpg', 0)"
     ],
     "language": "python",
     "metadata": {},
     "outputs": []
    },
    {
     "cell_type": "heading",
     "level": 2,
     "metadata": {},
     "source": [
      "Display an image "
     ]
    },
    {
     "cell_type": "code",
     "collapsed": false,
     "input": [
      ">>> cv2.imshow('Image', image)\n",
      ">>> cv2.waitKey(0)\n",
      ">>> cv2.destroyAllWindows()"
     ],
     "language": "python",
     "metadata": {},
     "outputs": []
    }
   ],
   "metadata": {}
  }
 ]
}