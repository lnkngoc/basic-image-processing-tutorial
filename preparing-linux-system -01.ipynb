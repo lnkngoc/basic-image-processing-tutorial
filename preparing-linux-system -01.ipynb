{
 "metadata": {
  "kernelspec": {
   "display_name": "Python 2",
   "language": "python",
   "name": "python2"
  },
  "language_info": {
   "codemirror_mode": {
    "name": "ipython",
    "version": 2
   },
   "file_extension": ".py",
   "mimetype": "text/x-python",
   "name": "python",
   "nbconvert_exporter": "python",
   "pygments_lexer": "ipython2",
   "version": "2.7.13"
  },
  "name": "",
  "signature": "sha256:624a423443644356ed6565e053495492eb24e3afa52a845986e1c263e908cfe9"
 },
 "nbformat": 3,
 "nbformat_minor": 0,
 "worksheets": [
  {
   "cells": [
    {
     "cell_type": "heading",
     "level": 1,
     "metadata": {},
     "source": [
      "Install pip (package manager)"
     ]
    },
    {
     "cell_type": "code",
     "collapsed": false,
     "input": [
      "$ sudo apt install python-pip"
     ],
     "language": "python",
     "metadata": {},
     "outputs": []
    },
    {
     "cell_type": "markdown",
     "metadata": {},
     "source": [
      "# Install jupyter notebook"
     ]
    },
    {
     "cell_type": "code",
     "collapsed": false,
     "input": [
      "web: http://jupyter.readthedocs.io/en/latest/install.html\n",
      "\n",
      "$ sudo pip install jupyter\n",
      "\n",
      "or another installation\n",
      "web: https://www.digitalocean.com/community/tutorials/how-to-set-up-a-jupyter-notebook-to-run-ipython-on-ubuntu-16-04\n",
      "\n",
      "$ sudo apt-get -y install ipython"
     ],
     "language": "python",
     "metadata": {},
     "outputs": []
    },
    {
     "cell_type": "heading",
     "level": 1,
     "metadata": {},
     "source": [
      "Install Gimp"
     ]
    },
    {
     "cell_type": "code",
     "collapsed": false,
     "input": [
      "web: http://ubuntuhandbook.org/index.php/2015/11/how-to-install-gimp-2-8-16-in-ubuntu-16-04-15-10-14-04/\n",
      "\n",
      "Adding Gimp PPA\n",
      "\n",
      "$ sudo add-apt-repository ppa:otto-kesselgulasch/gimp\n",
      "\n",
      "Install Gimp\n",
      "\n",
      "$ sudo apt-get update\n",
      "$ sudo apt-get install gimp"
     ],
     "language": "python",
     "metadata": {},
     "outputs": []
    },
    {
     "cell_type": "markdown",
     "metadata": {},
     "source": [
      "# Image Processing Toolboxs\n",
      "## scikit-image"
     ]
    },
    {
     "cell_type": "code",
     "collapsed": false,
     "input": [
      "# install scikit-image\n",
      "web: http://scikit-image.org/docs/dev/install.html\n",
      "\n",
      "$ sudo apt-get install python-matplotlib python-numpy python-pil python-scipy\n",
      "$ sudo apt-get install python-skimage"
     ],
     "language": "python",
     "metadata": {},
     "outputs": []
    },
    {
     "cell_type": "markdown",
     "metadata": {},
     "source": [
      "## Getting started with scikit-image"
     ]
    },
    {
     "cell_type": "code",
     "collapsed": false,
     "input": [
      "# check version of scikit-image\n",
      "\n",
      "$ python\n",
      "\n",
      ">>> import skimage\n",
      ">>> print(skimage.__version__)\n",
      "\n",
      "or\n",
      "\n",
      "$ pip search scikit-image | grep scikit-image\n",
      "\n",
      "scikit-image (0.13.1) "
     ],
     "language": "python",
     "metadata": {},
     "outputs": []
    },
    {
     "cell_type": "markdown",
     "metadata": {},
     "source": [
      "## Update scikit-image"
     ]
    },
    {
     "cell_type": "code",
     "collapsed": false,
     "input": [
      "$ sudo pip install -Iv scikit-image==0.13"
     ],
     "language": "python",
     "metadata": {},
     "outputs": []
    },
    {
     "cell_type": "markdown",
     "metadata": {},
     "source": [
      "## First scikit-image code"
     ]
    },
    {
     "cell_type": "code",
     "collapsed": false,
     "input": [
      "$ python\n",
      "\n",
      ">>> from skimage import data, io\n",
      ">>>\n",
      ">>> image = data.coins()\n",
      ">>> io.imshow(edges)\n",
      ">>> io.show()"
     ],
     "language": "python",
     "metadata": {},
     "outputs": []
    },
    {
     "cell_type": "markdown",
     "metadata": {},
     "source": [
      "# Machine Learning Toolbox\n",
      "## scikit-learn"
     ]
    },
    {
     "cell_type": "code",
     "collapsed": false,
     "input": [
      "# install scikit-learn\n",
      "web: http://scikit-learn.org/stable/install.html\n",
      "\n",
      "$ sudo pip install -U scikit-learn"
     ],
     "language": "python",
     "metadata": {},
     "outputs": []
    },
    {
     "cell_type": "markdown",
     "metadata": {},
     "source": [
      "## Getting started with Scikit-learn"
     ]
    },
    {
     "cell_type": "code",
     "collapsed": false,
     "input": [
      "$ python\n",
      "\n",
      ">>> from sklearn import datasets\n",
      ">>> \n",
      ">>> iris = datasets.load_iris()\n",
      ">>> digits = datasets.load_digits()\n",
      ">>>\n",
      ">>> print(digits.data)  \n",
      ">>> digits.target\n",
      ">>> digits.images[0]"
     ],
     "language": "python",
     "metadata": {},
     "outputs": []
    },
    {
     "cell_type": "heading",
     "level": 1,
     "metadata": {},
     "source": [
      "Exit python program"
     ]
    },
    {
     "cell_type": "code",
     "collapsed": false,
     "input": [
      ">>>  <ctrl+D>"
     ],
     "language": "python",
     "metadata": {},
     "outputs": []
    }
   ],
   "metadata": {}
  }
 ]
}
